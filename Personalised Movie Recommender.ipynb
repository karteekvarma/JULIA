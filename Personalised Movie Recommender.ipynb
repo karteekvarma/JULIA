{
 "cells": [
  {
   "cell_type": "markdown",
   "metadata": {},
   "source": [
    "# Personalized data Recommender system"
   ]
  },
  {
   "cell_type": "code",
   "execution_count": 18,
   "metadata": {},
   "outputs": [],
   "source": [
    "using Recommendation #The external package that we are using to build the recommender system.\n",
    "using DelimitedFiles"
   ]
  },
  {
   "cell_type": "code",
   "execution_count": 12,
   "metadata": {},
   "outputs": [
    {
     "data": {
      "text/plain": [
       "10×9 Array{Any,2}:\n",
       " \"Moonlight (2016)\"                   0  0  0  1  0  0  0  0\n",
       " \"Zootopia (2016)\"                    1  1  1  0  0  0  0  0\n",
       " \"Arrival (2016)\"                     0  0  0  1  0  1  0  1\n",
       " \"Hell or High Water (2016)\"          0  0  0  1  0  1  0  0\n",
       " \"La La Land (2016)\"                  0  0  1  1  0  0  1  0\n",
       " \"The Jungle Book (2016)\"             1  0  0  0  1  0  0  0\n",
       " \"Manchester by the Sea (2016)\"       0  0  0  1  0  0  0  0\n",
       " \"Finding Dory (2016)\"                0  1  0  0  0  0  0  0\n",
       " \"Captain America: Civil War (2016)\"  1  0  0  0  0  0  0  1\n",
       " \"Moana (2016)\"                       1  1  0  0  0  0  0  0"
      ]
     },
     "execution_count": 12,
     "metadata": {},
     "output_type": "execute_result"
    }
   ],
   "source": [
    "movies = readdlm(\"movie.tsv\", '\\t',skipstart=1) #reading the CSV file from the source where each line  gives one row."
   ]
  },
  {
   "cell_type": "code",
   "execution_count": 22,
   "metadata": {},
   "outputs": [
    {
     "data": {
      "text/plain": [
       "(Any[\"Moonlight (2016),0,0,0,1,0,0,0,0,\"; \"Zootopia (2016),1,1,1,0,0,0,0,0,\"; … ; \"Captain America: Civil War (2016),1,0,0,0,0,0,0,1,\"; \"Moana (2016),1,1,0,0,0,0,0,0,\"], AbstractString[\"\\ufeffMovie title,Action,Animation,Comedy,Drama,Kids,Mistery,Musical,SF,\"])"
      ]
     },
     "execution_count": 22,
     "metadata": {},
     "output_type": "execute_result"
    }
   ],
   "source": [
    "#movies = DelimitedFiles.readdlm(\"movies.csv\", '\\t',header = true)"
   ]
  },
  {
   "cell_type": "code",
   "execution_count": 13,
   "metadata": {},
   "outputs": [
    {
     "data": {
      "text/plain": [
       "9-element Array{Any,1}:\n",
       "  \"Finding Nemo (2003)\"\n",
       " 0\n",
       " 1\n",
       " 1\n",
       " 0\n",
       " 1\n",
       " 0\n",
       " 0\n",
       " 0"
      ]
     },
     "execution_count": 13,
     "metadata": {},
     "output_type": "execute_result"
    }
   ],
   "source": [
    "watched_movie = [\"Finding Nemo (2003)\", 0, 1, 1, 0, 1, 0, 0, 0]"
   ]
  },
  {
   "cell_type": "code",
   "execution_count": 14,
   "metadata": {},
   "outputs": [],
   "source": [
    "using Distances"
   ]
  },
  {
   "cell_type": "code",
   "execution_count": 15,
   "metadata": {},
   "outputs": [
    {
     "data": {
      "text/plain": [
       "Dict{String,Int64}()"
      ]
     },
     "execution_count": 15,
     "metadata": {},
     "output_type": "execute_result"
    }
   ],
   "source": [
    "distances = Dict{String,Int}()"
   ]
  },
  {
   "cell_type": "code",
   "execution_count": 16,
   "metadata": {},
   "outputs": [],
   "source": [
    "for i = 1:size(movies,1)\n",
    "    distances[movies[i,:][1]] =  hamming(Int[movies[i,2:end]...], Int[watched_movie[2:end]...])\n",
    "end"
   ]
  },
  {
   "cell_type": "code",
   "execution_count": 17,
   "metadata": {},
   "outputs": [
    {
     "data": {
      "text/plain": [
       "Dict{String,Int64} with 10 entries:\n",
       "  \"The Jungle Book (2016)\"            => 3\n",
       "  \"Hell or High Water (2016)\"         => 5\n",
       "  \"Arrival (2016)\"                    => 6\n",
       "  \"La La Land (2016)\"                 => 4\n",
       "  \"Moana (2016)\"                      => 3\n",
       "  \"Captain America: Civil War (2016)\" => 5\n",
       "  \"Moonlight (2016)\"                  => 4\n",
       "  \"Finding Dory (2016)\"               => 2\n",
       "  \"Zootopia (2016)\"                   => 2\n",
       "  \"Manchester by the Sea (2016)\"      => 4"
      ]
     },
     "execution_count": 17,
     "metadata": {},
     "output_type": "execute_result"
    }
   ],
   "source": [
    "distances"
   ]
  }
 ],
 "metadata": {
  "kernelspec": {
   "display_name": "Julia 1.5.2",
   "language": "julia",
   "name": "julia-1.5"
  },
  "language_info": {
   "file_extension": ".jl",
   "mimetype": "application/julia",
   "name": "julia",
   "version": "1.5.2"
  }
 },
 "nbformat": 4,
 "nbformat_minor": 4
}
